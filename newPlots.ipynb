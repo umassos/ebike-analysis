{
 "cells": [
  {
   "cell_type": "code",
   "execution_count": 1,
   "metadata": {},
   "outputs": [
    {
     "name": "stderr",
     "output_type": "stream",
     "text": [
      "/var/folders/dq/g58l88154nsgjmcx53lxcfbm0000gn/T/ipykernel_15999/697952772.py:9: MatplotlibDeprecationWarning: The seaborn styles shipped by Matplotlib are deprecated since 3.6, as they no longer correspond to the styles shipped by seaborn. However, they will remain available as 'seaborn-v0_8-<style>'. Alternatively, directly use the seaborn API instead.\n",
      "  style.use('seaborn')\n"
     ]
    }
   ],
   "source": [
    "import numpy as np\n",
    "import pandas as pd\n",
    "import matplotlib.pyplot as plt\n",
    "import glob\n",
    "import seaborn as sns\n",
    "from itertools import cycle\n",
    "import matplotlib.style as style\n",
    "from collections import Counter\n",
    "style.use('seaborn')\n",
    "\n",
    "colors = cycle([\"C{}\".format(i) for i in range(10)])"
   ]
  },
  {
   "cell_type": "code",
   "execution_count": 2,
   "metadata": {},
   "outputs": [],
   "source": [
    "import functions as f\n",
    "\n",
    "stations = pd.read_csv(\"stations.csv\")\n",
    "lats = list(stations.get('latitude'))\n",
    "longs = list(stations.get('longitude'))\n",
    "\n",
    "names = []\n",
    "towns = []\n",
    "points = []\n",
    "mapping = {}\n",
    "for index, row in stations.iterrows():\n",
    "    names.append( row['name'] )\n",
    "    towns.append( row[\"town\"] )\n",
    "    mapping[row['name']] = row[\"town\"]\n",
    "    lat = lats[index]\n",
    "    long = longs[index]\n",
    "    points.append( (lat, long) )"
   ]
  },
  {
   "cell_type": "code",
   "execution_count": 13,
   "metadata": {},
   "outputs": [],
   "source": [
    "import functions as f\n",
    "from datetime import datetime\n",
    "\n",
    "users = pd.read_csv(\"users.csv\")\n",
    "\n",
    "trips = users['trips'].to_list()\n",
    "completeList = []\n",
    "for user in trips:\n",
    "    totalTrips = []\n",
    "    numtrips = 1\n",
    "    strings = user.split(\"},\")\n",
    "    splitstrings = []\n",
    "    for string in strings:\n",
    "        splitstrings.append(string.split(\",\"))\n",
    "    splitstrings[-1][-1] = splitstrings[-1][-1][:-2]\n",
    "\n",
    "    for splitstring in splitstrings:\n",
    "        unlock = datetime.strptime(splitstring[0][13:-1], \"%m-%d-%y %H:%M:%S\")\n",
    "        \n",
    "        distance = float(splitstring[2][8:])\n",
    "        duration = float(splitstring[3][12:])\n",
    "        start = splitstring[5][18:-1].replace('/','-')\n",
    "        end = splitstring[6][16:-1].replace('/','-')\n",
    "\n",
    "        if start not in mapping.keys() or end not in mapping.keys():\n",
    "            numtrips += 1\n",
    "            continue\n",
    "        elif mapping[start] != mapping[end]:\n",
    "            numtrips += 1\n",
    "            continue\n",
    "        else:\n",
    "            totalTrips.append({'unlock': unlock, 'distance': distance, 'duration': duration, 'town': mapping[start], 'numtrips': numtrips})\n",
    "            numtrips += 1\n",
    "    \n",
    "    completeList.append(totalTrips)\n",
    "\n",
    "users['trips'] = completeList\n",
    "# trips[\"start_time\"] = pd.to_datetime(trips[\"start_time\"])\n",
    "# trips[\"duration\"] = pd.to_timedelta(trips[\"duration\"])\n",
    "# deltaF = datetime.timedelta(minutes=1) # filter out trips which take less than 1 min\n",
    "# deltaC = datetime.timedelta(hours=24) # filter out trips which take longer than a day\n",
    "# trips = trips.loc[trips['duration'] > deltaF]\n",
    "# trips = trips.loc[trips['duration'] < deltaC]\n",
    "# filter out trips earlier than april 1st and later than october 31st\n",
    "# trips = trips.loc[trips['start_time']]\n",
    "\n",
    "# display(users)"
   ]
  },
  {
   "cell_type": "code",
   "execution_count": 14,
   "metadata": {},
   "outputs": [],
   "source": [
    "def flatten_list(nested_list):\n",
    "    \"\"\"\n",
    "    Flatten a list of lists into a single list.\n",
    "    \"\"\"\n",
    "    # Use a nested list comprehension to flatten the list\n",
    "    return [item for sublist in nested_list for item in sublist]\n",
    "\n",
    "completeList = flatten_list(completeList)"
   ]
  },
  {
   "cell_type": "code",
   "execution_count": 15,
   "metadata": {},
   "outputs": [
    {
     "name": "stdout",
     "output_type": "stream",
     "text": [
      "{'unlock': datetime.datetime(2018, 8, 3, 23, 9, 15), 'distance': 4.965, 'duration': 40.7926, 'town': 'Holyoke', 'numtrips': 10}\n"
     ]
    }
   ],
   "source": [
    "print(completeList[9])"
   ]
  },
  {
   "cell_type": "code",
   "execution_count": null,
   "metadata": {},
   "outputs": [],
   "source": []
  }
 ],
 "metadata": {
  "kernelspec": {
   "display_name": "ox",
   "language": "python",
   "name": "python3"
  },
  "language_info": {
   "codemirror_mode": {
    "name": "ipython",
    "version": 3
   },
   "file_extension": ".py",
   "mimetype": "text/x-python",
   "name": "python",
   "nbconvert_exporter": "python",
   "pygments_lexer": "ipython3",
   "version": "3.11.0"
  },
  "orig_nbformat": 4
 },
 "nbformat": 4,
 "nbformat_minor": 2
}
